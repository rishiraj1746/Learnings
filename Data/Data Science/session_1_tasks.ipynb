{
 "cells": [
  {
   "cell_type": "markdown",
   "metadata": {
    "id": "A05OG15VqOPF"
   },
   "source": [
    "# Task : Session 1\n",
    "Solve these questions own your own and try to test yourself what you have learned in the session.\n",
    "\n",
    "Happy Learning!"
   ]
  },
  {
   "cell_type": "markdown",
   "metadata": {
    "id": "2doIXf8bqe9_"
   },
   "source": [
    "### Q1 :- Print the given strings as per stated format.\n",
    "\n",
    "**Given strings**:\n",
    "```\n",
    "\"Data\" \"Science\" \"Mentorship\" \"Program\"\n",
    "\"By\" \"N\"\n",
    "```\n",
    "**Output**:\n",
    "```\n",
    "Data-Science-Mentorship-Program-started-By-N\n",
    "```\n",
    "\n",
    "Concept- [Seperator and End]"
   ]
  },
  {
   "cell_type": "code",
   "execution_count": 3,
   "metadata": {
    "id": "-em6d3KErDtp"
   },
   "outputs": [
    {
     "name": "stdout",
     "output_type": "stream",
     "text": [
      "Data-Science-Mentorship-Program-started-By-N"
     ]
    }
   ],
   "source": [
    "# Given strings\n",
    "string1 = \"Data\"\n",
    "string2 = \"Science\"\n",
    "string3 = \"Mentorship\"\n",
    "string4 = \"Program\"\n",
    "string5 = \"By\"\n",
    "string6 = \"N\"\n",
    "\n",
    "# Printing in the specified format\n",
    "print(string1, string2, string3, string4, \"started\", string5, string6, sep='-', end='')"
   ]
  },
  {
   "cell_type": "markdown",
   "metadata": {
    "id": "1KUpN7ZTrC3_"
   },
   "source": [
    "### Q2:- Write a program that will convert celsius value to fahrenheit."
   ]
  },
  {
   "cell_type": "code",
   "execution_count": 4,
   "metadata": {
    "id": "yxKYhYQiqWfj"
   },
   "outputs": [
    {
     "name": "stdout",
     "output_type": "stream",
     "text": [
      "Enter temperature in Celsius: 38\n",
      "38.0°C is equal to 100.4°F.\n"
     ]
    }
   ],
   "source": [
    "# Input: Celsius temperature\n",
    "celsius = float(input(\"Enter temperature in Celsius: \"))\n",
    "\n",
    "# Conversion formula\n",
    "fahrenheit = (celsius * 9/5) + 32\n",
    "\n",
    "# Output the result\n",
    "print(f\"{celsius}°C is equal to {fahrenheit}°F.\")"
   ]
  },
  {
   "cell_type": "markdown",
   "metadata": {
    "id": "RLrOBBJurLB2"
   },
   "source": [
    "### Q3:- Take 2 numbers as input from the user.Write a program to swap the numbers without using any special python syntax."
   ]
  },
  {
   "cell_type": "code",
   "execution_count": 5,
   "metadata": {
    "id": "yPn7if0TrJ4F"
   },
   "outputs": [
    {
     "name": "stdout",
     "output_type": "stream",
     "text": [
      "Enter the first number: 12\n",
      "Enter the second number: 10\n",
      "After swapping: First number = 10, Second number = 12\n"
     ]
    }
   ],
   "source": [
    "# Input: Two numbers from the user\n",
    "num1 = int(input(\"Enter the first number: \"))\n",
    "num2 = int(input(\"Enter the second number: \"))\n",
    "\n",
    "# Swapping using arithmetic operations\n",
    "num1 = num1 + num2  # Step 1: Add the two numbers\n",
    "num2 = num1 - num2  # Step 2: Subtract num2 from the sum to get the original num1\n",
    "num1 = num1 - num2  # Step 3: Subtract the new num2 from the sum to get the original num2\n",
    "\n",
    "# Output the swapped values\n",
    "print(f\"After swapping: First number = {num1}, Second number = {num2}\")"
   ]
  },
  {
   "cell_type": "markdown",
   "metadata": {
    "id": "waLCP1bjr7ML"
   },
   "source": [
    "### Q4:- Write a program to find the euclidean distance between two coordinates.Take both the coordinates from the user as input."
   ]
  },
  {
   "cell_type": "code",
   "execution_count": 6,
   "metadata": {
    "id": "Pl1Sv-xnrxnH"
   },
   "outputs": [
    {
     "name": "stdout",
     "output_type": "stream",
     "text": [
      "Enter x-coordinate of the first point: 5\n",
      "Enter y-coordinate of the first point: 6\n",
      "Enter x-coordinate of the second point: 3\n",
      "Enter y-coordinate of the second point: 2\n",
      "The Euclidean distance between (5.0, 6.0) and (3.0, 2.0) is 4.47.\n"
     ]
    }
   ],
   "source": [
    "import math\n",
    "\n",
    "# Input: Coordinates of the first point\n",
    "x1 = float(input(\"Enter x-coordinate of the first point: \"))\n",
    "y1 = float(input(\"Enter y-coordinate of the first point: \"))\n",
    "\n",
    "# Input: Coordinates of the second point\n",
    "x2 = float(input(\"Enter x-coordinate of the second point: \"))\n",
    "y2 = float(input(\"Enter y-coordinate of the second point: \"))\n",
    "\n",
    "# Calculate the Euclidean distance\n",
    "distance = math.sqrt((x2 - x1)**2 + (y2 - y1)**2)\n",
    "\n",
    "# Output the result\n",
    "print(f\"The Euclidean distance between ({x1}, {y1}) and ({x2}, {y2}) is {distance:.2f}.\")"
   ]
  },
  {
   "cell_type": "markdown",
   "metadata": {
    "id": "VLrhg-FRsHjR"
   },
   "source": [
    "### Q5:- Write a program to find the simple interest when the value of principle,rate of interest and time period is provided by the user.\n"
   ]
  },
  {
   "cell_type": "code",
   "execution_count": 7,
   "metadata": {
    "id": "s40DlReZsTmY"
   },
   "outputs": [
    {
     "name": "stdout",
     "output_type": "stream",
     "text": [
      "Enter the principal amount: 10000\n",
      "Enter the rate of interest (in %): 7.5\n",
      "Enter the time period (in years): 2\n",
      "The simple interest is: 1500.00\n"
     ]
    }
   ],
   "source": [
    "# Input: Principal amount, rate of interest, and time period\n",
    "principal = float(input(\"Enter the principal amount: \"))\n",
    "rate = float(input(\"Enter the rate of interest (in %): \"))\n",
    "time = float(input(\"Enter the time period (in years): \"))\n",
    "\n",
    "# Calculate simple interest\n",
    "simple_interest = (principal * rate * time) / 100\n",
    "\n",
    "# Output the result\n",
    "print(f\"The simple interest is: {simple_interest:.2f}\")"
   ]
  },
  {
   "cell_type": "markdown",
   "metadata": {
    "id": "LMy0BTUktYKa"
   },
   "source": [
    "### Q6:- Write a program that will tell the number of dogs and chicken are there when the user will provide the value of total heads and legs.\n",
    "\n",
    "For example:\n",
    "Input:\n",
    "heads -> 4\n",
    "legs -> 12\n",
    "<br>\n",
    "Output:\n",
    "dogs -> 2\n",
    "chicken -> 2\n",
    "\n",
    "\n",
    "\n"
   ]
  },
  {
   "cell_type": "code",
   "execution_count": 8,
   "metadata": {
    "id": "XSBvJoA4tXaG"
   },
   "outputs": [
    {
     "name": "stdout",
     "output_type": "stream",
     "text": [
      "Enter the total number of heads: 4\n",
      "Enter the total number of legs: 16\n",
      "Dogs -> 4, Chickens -> 0\n"
     ]
    }
   ],
   "source": [
    "# Input: Total heads and legs\n",
    "heads = int(input(\"Enter the total number of heads: \"))\n",
    "legs = int(input(\"Enter the total number of legs: \"))\n",
    "\n",
    "# Loop to find the solution\n",
    "for dogs in range(heads + 1):  # Dogs can be from 0 to the total number of heads\n",
    "    chickens = heads - dogs  # Chickens will be the remaining heads\n",
    "    if (2 * chickens + 4 * dogs) == legs:  # Check if the legs match\n",
    "        print(f\"Dogs -> {dogs}, Chickens -> {chickens}\")\n",
    "        break\n",
    "else:\n",
    "    print(\"No solution is possible with the given heads and legs.\")"
   ]
  },
  {
   "cell_type": "markdown",
   "metadata": {
    "id": "gJ7C5kZYt4BP"
   },
   "source": [
    "### Q7:- Write a program to find the sum of squares of first n natural numbers where n will be provided by the user."
   ]
  },
  {
   "cell_type": "code",
   "execution_count": 9,
   "metadata": {
    "id": "_tHsmEHzt2nX"
   },
   "outputs": [
    {
     "name": "stdout",
     "output_type": "stream",
     "text": [
      "Enter a natural number (n): 11\n",
      "The sum of squares of the first 11 natural numbers is: 506\n"
     ]
    }
   ],
   "source": [
    "# Input: Number of terms (n)\n",
    "n = int(input(\"Enter a natural number (n): \"))\n",
    "\n",
    "# Initialize the sum variable\n",
    "sum_of_squares = 0\n",
    "\n",
    "# Loop to calculate the sum of squares\n",
    "for i in range(1, n + 1):  # From 1 to n (inclusive)\n",
    "    sum_of_squares += i ** 2  # Add square of the current number\n",
    "\n",
    "# Output the result\n",
    "print(f\"The sum of squares of the first {n} natural numbers is: {sum_of_squares}\")"
   ]
  },
  {
   "cell_type": "markdown",
   "metadata": {
    "id": "FHrMM7g-yG1h"
   },
   "source": [
    "### Q8:- Given the first 2 terms of an Arithmetic Series.Find the Nth term of the series. Assume all inputs are provided by the user."
   ]
  },
  {
   "cell_type": "code",
   "execution_count": 10,
   "metadata": {
    "id": "go4_kmZmyVSx"
   },
   "outputs": [
    {
     "name": "stdout",
     "output_type": "stream",
     "text": [
      "Enter the first term of the series (a): 6\n",
      "Enter the second term of the series: 12\n",
      "Enter the position (n) of the term to find: 6\n",
      "The 6th term of the series is: 36.0\n"
     ]
    }
   ],
   "source": [
    "# Input: First term (a), second term, and the position (n)\n",
    "a = float(input(\"Enter the first term of the series (a): \"))\n",
    "second_term = float(input(\"Enter the second term of the series: \"))\n",
    "n = int(input(\"Enter the position (n) of the term to find: \"))\n",
    "\n",
    "# Calculate the common difference\n",
    "d = second_term - a\n",
    "\n",
    "# Calculate the Nth term\n",
    "nth_term = a + (n - 1) * d\n",
    "\n",
    "# Output the result\n",
    "print(f\"The {n}th term of the series is: {nth_term}\")"
   ]
  },
  {
   "cell_type": "markdown",
   "metadata": {
    "id": "QgyRX_es1oum"
   },
   "source": [
    "### Q9:- Given 2 fractions, find the sum of those 2 fractions.Take the numerator and denominator values of the fractions from the user."
   ]
  },
  {
   "cell_type": "code",
   "execution_count": 11,
   "metadata": {
    "id": "X05xqFS1yW16"
   },
   "outputs": [
    {
     "name": "stdout",
     "output_type": "stream",
     "text": [
      "Enter the numerator of the first fraction: 17\n",
      "Enter the denominator of the first fraction: 31\n",
      "Enter the numerator of the second fraction: 5\n",
      "Enter the denominator of the second fraction: 5\n",
      "The sum of the fractions is: 240/155\n"
     ]
    }
   ],
   "source": [
    "# Input: Numerator and denominator of the first fraction\n",
    "numerator1 = int(input(\"Enter the numerator of the first fraction: \"))\n",
    "denominator1 = int(input(\"Enter the denominator of the first fraction: \"))\n",
    "\n",
    "# Input: Numerator and denominator of the second fraction\n",
    "numerator2 = int(input(\"Enter the numerator of the second fraction: \"))\n",
    "denominator2 = int(input(\"Enter the denominator of the second fraction: \"))\n",
    "\n",
    "# Calculate the numerator and denominator of the sum\n",
    "sum_numerator = (numerator1 * denominator2) + (numerator2 * denominator1)\n",
    "sum_denominator = denominator1 * denominator2\n",
    "\n",
    "# Output the result\n",
    "print(f\"The sum of the fractions is: {sum_numerator}/{sum_denominator}\")"
   ]
  },
  {
   "cell_type": "markdown",
   "metadata": {
    "id": "eaql38ln13u7"
   },
   "source": [
    "### Q10:- Given the height, width and breadth of a milk tank, you have to find out how many glasses of milk can be obtained? Assume all the inputs are provided by the user.\n",
    "\n",
    "\n",
    "\n",
    "Input:<br>\n",
    "Dimensions of the milk tank<br>\n",
    "H = 20cm, L = 20cm, B = 20cm\n",
    "<br><br>\n",
    "Dimensions of the glass<br>\n",
    "h = 3cm, r = 1cm"
   ]
  },
  {
   "cell_type": "code",
   "execution_count": 12,
   "metadata": {
    "id": "FePZqno74eWv"
   },
   "outputs": [
    {
     "name": "stdout",
     "output_type": "stream",
     "text": [
      "Enter the height of the tank (in cm): 152\n",
      "Enter the length of the tank (in cm): 160\n",
      "Enter the breadth of the tank (in cm): 200\n",
      "Enter the height of the glass (in cm): 50\n",
      "Enter the radius of the glass (in cm): 25\n",
      "The number of glasses of milk that can be obtained: 49\n"
     ]
    }
   ],
   "source": [
    "import math\n",
    "\n",
    "# Input: Dimensions of the milk tank\n",
    "H = float(input(\"Enter the height of the tank (in cm): \"))\n",
    "L = float(input(\"Enter the length of the tank (in cm): \"))\n",
    "B = float(input(\"Enter the breadth of the tank (in cm): \"))\n",
    "\n",
    "# Input: Dimensions of the glass\n",
    "h = float(input(\"Enter the height of the glass (in cm): \"))\n",
    "r = float(input(\"Enter the radius of the glass (in cm): \"))\n",
    "\n",
    "# Calculate the volume of the tank\n",
    "volume_tank = H * L * B\n",
    "\n",
    "# Calculate the volume of the glass (cylinder)\n",
    "volume_glass = math.pi * r**2 * h\n",
    "\n",
    "# Calculate the number of glasses of milk that can be obtained\n",
    "number_of_glasses = volume_tank / volume_glass\n",
    "\n",
    "# Output the result\n",
    "print(f\"The number of glasses of milk that can be obtained: {int(number_of_glasses)}\")"
   ]
  }
 ],
 "metadata": {
  "colab": {
   "include_colab_link": true,
   "provenance": []
  },
  "kernelspec": {
   "display_name": "Python 3 (ipykernel)",
   "language": "python",
   "name": "python3"
  },
  "language_info": {
   "codemirror_mode": {
    "name": "ipython",
    "version": 3
   },
   "file_extension": ".py",
   "mimetype": "text/x-python",
   "name": "python",
   "nbconvert_exporter": "python",
   "pygments_lexer": "ipython3",
   "version": "3.11.7"
  }
 },
 "nbformat": 4,
 "nbformat_minor": 1
}
