{
 "cells": [
  {
   "cell_type": "markdown",
   "id": "f2600a09",
   "metadata": {},
   "source": [
    "# Python Fundamentals"
   ]
  },
  {
   "cell_type": "markdown",
   "id": "f57ff978",
   "metadata": {},
   "source": [
    "Python is a high-level, interpreted programming language known for its simplicity and readability.\n",
    "#### Data Types and Variables\n",
    "- **int**: Integer values (e.g., 1, 42, -5)\n",
    "- **float**: Decimal values (e.g., 3.14, -0.001)\n",
    "- **str**: Strings, or text (e.g., \"Hello\", 'Python')\n",
    "- **bool**: Boolean values (`True` or `False`)\n",
    "\n",
    "**Example:**"
   ]
  },
  {
   "cell_type": "code",
   "execution_count": 2,
   "id": "5f451f61",
   "metadata": {},
   "outputs": [
    {
     "name": "stdout",
     "output_type": "stream",
     "text": [
      "10 3.14 John True\n"
     ]
    }
   ],
   "source": [
    "# Variables and data types\n",
    "x = 10       # int\n",
    "y = 3.14     # float\n",
    "name = \"John\" # str\n",
    "is_active = True # bool\n",
    "print(x, y, name, is_active)"
   ]
  },
  {
   "cell_type": "markdown",
   "id": "384657c3",
   "metadata": {},
   "source": [
    "#### Input and Output\n",
    "- `input()`: Get user input\n",
    "- `print()`: Display output\n",
    "\n",
    "**Example:**"
   ]
  },
  {
   "cell_type": "code",
   "execution_count": 1,
   "id": "01363351",
   "metadata": {},
   "outputs": [
    {
     "name": "stdout",
     "output_type": "stream",
     "text": [
      "Enter your name: Rishiraj\n",
      "Hello, Rishiraj\n"
     ]
    }
   ],
   "source": [
    "# Input and Output\n",
    "name = input(\"Enter your name: \")\n",
    "print(\"Hello,\", name)"
   ]
  },
  {
   "cell_type": "markdown",
   "id": "1a9c30ba",
   "metadata": {},
   "source": [
    "# Operators in Python"
   ]
  },
  {
   "cell_type": "markdown",
   "id": "6679d942",
   "metadata": {},
   "source": [
    "#### Arithmetic Operators\n",
    "- `+` (Addition)\n",
    "- `-` (Subtraction)\n",
    "- `*` (Multiplication)\n",
    "- `/` (Division)\n",
    "- `**` (Exponentiation)\n",
    "- `%` (Modulus)\n",
    "- `//` (Floor Division)\n",
    "\n",
    "**Example:**"
   ]
  },
  {
   "cell_type": "code",
   "execution_count": 3,
   "id": "8433e97b",
   "metadata": {},
   "outputs": [
    {
     "name": "stdout",
     "output_type": "stream",
     "text": [
      "13\n",
      "1000\n"
     ]
    }
   ],
   "source": [
    "a = 10\n",
    "b = 3\n",
    "print(a + b)  # Addition\n",
    "print(a ** b) # Exponentiation\n"
   ]
  },
  {
   "cell_type": "markdown",
   "id": "8f7010f7",
   "metadata": {},
   "source": [
    "#### Relational and Logical Operators\n",
    "- Relational: `>`, `<`, `>=`, `<=`, `==`, `!=`\n",
    "- Logical: `and`, `or`, `not`\n",
    "\n",
    "**Example:**"
   ]
  },
  {
   "cell_type": "code",
   "execution_count": 4,
   "id": "7cdac6bd",
   "metadata": {},
   "outputs": [
    {
     "name": "stdout",
     "output_type": "stream",
     "text": [
      "False\n",
      "True\n"
     ]
    }
   ],
   "source": [
    "x = 5\n",
    "y = 10\n",
    "print(x > y)    # False\n",
    "print(x < y and x == 5) # True"
   ]
  },
  {
   "cell_type": "markdown",
   "id": "8e6ca65c",
   "metadata": {},
   "source": [
    "#### Assignment Operators\n",
    "- `=`: Assign\n",
    "- `+=`, `-=`, `*=`, `/=`: Augmented assignment\n",
    "\n",
    "**Example:**"
   ]
  },
  {
   "cell_type": "code",
   "execution_count": 5,
   "id": "7522b873",
   "metadata": {},
   "outputs": [
    {
     "name": "stdout",
     "output_type": "stream",
     "text": [
      "15\n"
     ]
    }
   ],
   "source": [
    "num = 10\n",
    "num += 5  # num = num + 5\n",
    "print(num)"
   ]
  },
  {
   "cell_type": "markdown",
   "id": "5367e629",
   "metadata": {},
   "source": [
    "# Control Flow: If-Else Statements"
   ]
  },
  {
   "cell_type": "markdown",
   "id": "c2627b66",
   "metadata": {},
   "source": [
    "#### Syntax\n",
    "```python\n",
    "if condition:\n",
    "    # Code block for true condition\n",
    "elif another_condition:\n",
    "    # Code block for elif condition\n",
    "else:\n",
    "    # Code block for false condition\n",
    "```\n",
    "**Example:**"
   ]
  },
  {
   "cell_type": "code",
   "execution_count": null,
   "id": "d9b7daa0",
   "metadata": {},
   "outputs": [],
   "source": [
    "num = int(input(\"Enter a number: \"))\n",
    "if num > 0:\n",
    "    print(\"Positive number\")\n",
    "elif num == 0:\n",
    "    print(\"Zero\")\n",
    "else:\n",
    "    print(\"Negative number\")"
   ]
  },
  {
   "cell_type": "markdown",
   "id": "34d4176a",
   "metadata": {},
   "source": [
    "# Loops in Python"
   ]
  },
  {
   "cell_type": "markdown",
   "id": "b087f636",
   "metadata": {},
   "source": [
    "#### For Loop\n",
    "Used for iterating over a sequence (e.g., list, string, range).\n",
    "\n",
    "**Example:**"
   ]
  },
  {
   "cell_type": "code",
   "execution_count": null,
   "id": "9836d17c",
   "metadata": {},
   "outputs": [],
   "source": [
    "for i in range(5): # 0 to 4\n",
    "    print(i)"
   ]
  },
  {
   "cell_type": "markdown",
   "id": "d0efadfa",
   "metadata": {},
   "source": [
    "#### While Loop\n",
    "Repeats as long as a condition is true.\n",
    "\n",
    "**Example:**"
   ]
  },
  {
   "cell_type": "code",
   "execution_count": null,
   "id": "88f2f13a",
   "metadata": {},
   "outputs": [],
   "source": [
    "count = 0\n",
    "while count < 5:\n",
    "    print(count)\n",
    "    count += 1"
   ]
  },
  {
   "cell_type": "markdown",
   "id": "08d9a411",
   "metadata": {},
   "source": [
    "#### Break and Continue\n",
    "- `break`: Exit the loop\n",
    "- `continue`: Skip to the next iteration\n",
    "\n",
    "**Example:**"
   ]
  },
  {
   "cell_type": "code",
   "execution_count": null,
   "id": "56452dce",
   "metadata": {},
   "outputs": [],
   "source": [
    "for i in range(10):\n",
    "    if i == 5:\n",
    "        break  # Exit loop when i is 5\n",
    "    print(i)\n",
    "for i in range(10):\n",
    "    if i % 2 == 0:\n",
    "        continue  # Skip even numbers\n",
    "    print(i)"
   ]
  }
 ],
 "metadata": {
  "kernelspec": {
   "display_name": "Python 3 (ipykernel)",
   "language": "python",
   "name": "python3"
  },
  "language_info": {
   "codemirror_mode": {
    "name": "ipython",
    "version": 3
   },
   "file_extension": ".py",
   "mimetype": "text/x-python",
   "name": "python",
   "nbconvert_exporter": "python",
   "pygments_lexer": "ipython3",
   "version": "3.11.7"
  }
 },
 "nbformat": 4,
 "nbformat_minor": 5
}
