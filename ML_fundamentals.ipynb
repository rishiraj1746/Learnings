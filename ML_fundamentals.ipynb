{
  "nbformat": 4,
  "nbformat_minor": 0,
  "metadata": {
    "colab": {
      "provenance": [],
      "authorship_tag": "ABX9TyN096IAyhm6Cij06MSe+8bn",
      "include_colab_link": true
    },
    "kernelspec": {
      "name": "python3",
      "display_name": "Python 3"
    },
    "language_info": {
      "name": "python"
    }
  },
  "cells": [
    {
      "cell_type": "markdown",
      "metadata": {
        "id": "view-in-github",
        "colab_type": "text"
      },
      "source": [
        "<a href=\"https://colab.research.google.com/github/rishiraj1746/Learnings/blob/main/ML_fundamentals.ipynb\" target=\"_parent\"><img src=\"https://colab.research.google.com/assets/colab-badge.svg\" alt=\"Open In Colab\"/></a>"
      ]
    },
    {
      "cell_type": "markdown",
      "source": [
        "# Machine Learning"
      ],
      "metadata": {
        "id": "m11RmOJ_PnfO"
      }
    },
    {
      "cell_type": "markdown",
      "source": [
        "Machine Learning is a subset of AI that doesn't need explicitly programming, it learns from the data that is given and improves efficieny over the time."
      ],
      "metadata": {
        "id": "3MTpP-4EQ6KE"
      }
    },
    {
      "cell_type": "markdown",
      "source": [
        "AI vs ML vs DL"
      ],
      "metadata": {
        "id": "hwTKGQntRlzs"
      }
    },
    {
      "cell_type": "markdown",
      "source": [
        "AI - Artificial Intelligence\n",
        "\n",
        "ML - Machine Learning (Subset of AI)\n",
        "\n",
        "DL - Deep Learning (Subset of ML)"
      ],
      "metadata": {
        "id": "fbf323o1RsxI"
      }
    },
    {
      "cell_type": "markdown",
      "source": [
        "## Types of Machine Learning"
      ],
      "metadata": {
        "id": "-WsG35UASMhu"
      }
    },
    {
      "cell_type": "markdown",
      "source": [
        "### 1. Supervised Learning\n",
        "\n",
        "In supervised learning, the algorithm learns from labeled data, meaning the input data comes with the correct output labels.\n",
        "\n",
        "**Goal:** To map inputs to outputs accurately based on the training data.\n",
        "\n",
        "**Examples:**\n",
        "Predicting house prices (Regression).\n",
        "\n",
        "Classifying emails as spam or not (Classification).\n",
        "\n",
        "**Algorithms:** Linear Regression, Logistic Regression, Decision Trees, Neural Networks.\n",
        "\n",
        "### 2. Unsupervised Learning\n",
        "\n",
        "The algorithm learns from unlabeled data, meaning the data does not have predefined labels or categories.\n",
        "\n",
        "**Goal:** To discover hidden patterns or structures in the data.\n",
        "\n",
        "**Examples:**\n",
        "Clustering customers based on purchasing behavior (Clustering).\n",
        "\n",
        "Identifying anomalies in network traffic (Anomaly Detection).\n",
        "\n",
        "**Algorithms:** K-Means Clustering, DBSCAN, Principal Component Analysis (PCA).\n",
        "\n",
        "### 3. Semisupervised learning\n",
        "\n",
        "This is a hybrid approach where the algorithm learns from a small amount of labeled data and a large amount of unlabeled data.\n",
        "\n",
        "**Goal:** To leverage the unlabeled data to improve the learning process when labeling all data is expensive or time-consuming.\n",
        "\n",
        "**Examples:**Fraud detection in financial transactions.\n",
        "\n",
        "Medical imaging analysis (where only a few images are labeled).\n",
        "\n",
        "**Algorithms:** Self-training models, Graph-based models\n",
        "\n",
        "### 4. Reinforcement Learning\n",
        "The algorithm learns by interacting with an environment. It takes actions and learns based on rewards or penalties.\n",
        "\n",
        "**Goal:** To maximize the cumulative reward by learning the best strategy (policy).\n",
        "\n",
        "**Examples:**Robotics (learning to navigate obstacles).\n",
        "\n",
        "Game AI (like AlphaGo beating human players).\n",
        "\n",
        "**Key Concepts:**\n",
        "\n",
        "Agent: The learner or decision-maker.\n",
        "\n",
        "Environment: Where the agent operates.\n",
        "\n",
        "Actions: Moves taken by the agent.\n",
        "\n",
        "Reward: Feedback on the action's success.\n",
        "\n",
        "**Algorithms:** Q-Learning, Deep Q-Networks (DQN), SARSA"
      ],
      "metadata": {
        "id": "TybWvJNOSWWK"
      }
    },
    {
      "cell_type": "markdown",
      "source": [
        "## Batch Machine Learning (Offline vs Online Learning)"
      ],
      "metadata": {
        "id": "D4au_6rLY6_C"
      }
    },
    {
      "cell_type": "markdown",
      "source": [
        "| **Aspect**          | **Offline Learning**                  | **Online Learning**                   |\n",
        "|----------------------|----------------------------------------|---------------------------------------|\n",
        "| **Training**         | One-time, on the full dataset.        | Continuous, using streaming data.     |\n",
        "| **Adaptability**     | Doesn’t adapt to new data.            | Adapts dynamically to new data.       |\n",
        "| **Use Case**         | Static systems, like image classifiers. | Dynamic systems, like stock predictions. |\n",
        "| **Resource Usage**   | Requires high computational resources. | Processes data incrementally, saving resources. |\n"
      ],
      "metadata": {
        "id": "xJ7pS4PRY3yI"
      }
    },
    {
      "cell_type": "markdown",
      "source": [
        "### Instance-Based vs Model-Based Learning"
      ],
      "metadata": {
        "id": "0GypGEcBaOKt"
      }
    },
    {
      "cell_type": "markdown",
      "source": [
        "| **Aspect**            | **Instance-Based Learning**                 | **Model-Based Learning**                   |\n",
        "|------------------------|---------------------------------------------|--------------------------------------------|\n",
        "| **Learning Type**      | Lazy learning (learns during prediction).   | Eager learning (learns during training).    |\n",
        "| **Memory Usage**       | High (stores most or all training data).    | Low (only stores model parameters).         |\n",
        "| **Generalization**     | Local generalization (focuses on nearby data). | Global generalization (learns global patterns). |\n",
        "| **Training Speed**     | Fast (no explicit model is built).          | Slow (model building can take time).        |\n",
        "| **Prediction Speed**   | Slow (computes similarities for each input).| Fast (uses prebuilt model for predictions). |\n",
        "| **Examples**           | k-NN, Kernel Methods.                      | Linear Regression, Neural Networks, SVMs.  |\n"
      ],
      "metadata": {
        "id": "hET81cJYacv1"
      }
    },
    {
      "cell_type": "markdown",
      "source": [
        "## Machine Learning Development Cycle"
      ],
      "metadata": {
        "id": "6pPt0y52bELE"
      }
    },
    {
      "cell_type": "markdown",
      "source": [
        "1. Problem Definition\n",
        "2. Data Collection and Preprocessing\n",
        "3. Model Selection\n",
        "4. Model Design and Training\n",
        "5. Evaluation\n",
        "6. Deployment\n",
        "7. Monitoring and Maintenance\n",
        "8. Ethical and Regulatory Compliance\n",
        "9. Scalability"
      ],
      "metadata": {
        "id": "ParHZAlRbU-Q"
      }
    }
  ]
}